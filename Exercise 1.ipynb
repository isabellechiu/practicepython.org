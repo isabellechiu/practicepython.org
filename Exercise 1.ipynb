{
 "cells": [
  {
   "cell_type": "markdown",
   "metadata": {},
   "source": [
    "Exercise 1\n",
    "Create a program that asks the user to enter their name and their age. Print out a message addressed to them that tells them the year that they will turn 100 years old."
   ]
   "Discussion": [ "1. Getting user input\n",
"2. Manipulating strings (a few ways)\n"
   ]
  },
  {
   "cell_type": "markdown",
   "metadata": {},
   "source": [
    "my answer"
   ]
  },
  {
   "cell_type": "code",
   "execution_count": 9,
   "metadata": {},
   "outputs": [
    {
     "name": "stdout",
     "output_type": "stream",
     "text": [
      "What's your name?isabelle\n",
      "isabelle\n",
      "what's your age?25\n"
     ]
    },
    {
     "data": {
      "text/plain": [
       "'isabelleyou will trun 100 in 2093'"
      ]
     },
     "execution_count": 9,
     "metadata": {},
     "output_type": "execute_result"
    },
    {
     "data": {
      "text/plain": [
       "'isabelleyou will trun 100 in 2093'"
      ]
     },
     "execution_count": 9,
     "metadata": {},
     "output_type": "execute_result"
    }
   ],
   "source": [
    "name = input(\"What's your name?\")\n",
    "age = int(input(name + \"\\nwhat's your age?\"))\n",
    "yrs = str(2018 +(100 - age))\n",
    "msg = (name + \"you will trun 100 in \" + yrs)\n",
    "msg"
   ]
  },
  {
   "cell_type": "markdown",
   "metadata": {},
   "source": [
    "The answer"
   ]
  },
  {
   "cell_type": "code",
   "execution_count": 10,
   "metadata": {},
   "outputs": [
    {
     "name": "stdout",
     "output_type": "stream",
     "text": [
      "What is your name: isabelle\n",
      "How old are you: 25\n",
      "isabelle will be 100 years old in the year 2089\n",
      "isabelle will be 100 years old in the year 2089\n"
     ]
    }
   ],
   "source": [
    "name = input(\"What is your name: \")\n",
    "age = int(input(\"How old are you: \"))\n",
    "year = str((2014 - age)+100)\n",
    "print(name + \" will be 100 years old in the year \" + year)"
   ]
  },
  {
   "cell_type": "markdown",
   "metadata": {},
   "source": [
    "Other answer"
   ]
  },
  {
   "cell_type": "code",
   "execution_count": 11,
   "metadata": {},
   "outputs": [
    {
     "name": "stdout",
     "output_type": "stream",
     "text": [
      "Hey, what's your name?\n",
      "isabelle\n",
      "Okay Isabelle, how old are you?\n",
      "25\n",
      "Okay Isabelle, so if you're 25 now then you should turn 100 in the year 2093\n",
      "Okay Isabelle, so if you're 25 now then you should turn 100 in the year 2093\n",
      "Okay isabelle, give me a number\n",
      "45\n",
      "Okay Isabelle, so if you're 25 now then you should turn 100 in the year 2093Okay Isabelle, so if you're 25 now then you should turn 100 in the year 2093Okay Isabelle, so if you're 25 now then you should turn 100 in the year 2093Okay Isabelle, so if you're 25 now then you should turn 100 in the year 2093Okay Isabelle, so if you're 25 now then you should turn 100 in the year 2093Okay Isabelle, so if you're 25 now then you should turn 100 in the year 2093Okay Isabelle, so if you're 25 now then you should turn 100 in the year 2093Okay Isabelle, so if you're 25 now then you should turn 100 in the year 2093Okay Isabelle, so if you're 25 now then you should turn 100 in the year 2093Okay Isabelle, so if you're 25 now then you should turn 100 in the year 2093Okay Isabelle, so if you're 25 now then you should turn 100 in the year 2093Okay Isabelle, so if you're 25 now then you should turn 100 in the year 2093Okay Isabelle, so if you're 25 now then you should turn 100 in the year 2093Okay Isabelle, so if you're 25 now then you should turn 100 in the year 2093Okay Isabelle, so if you're 25 now then you should turn 100 in the year 2093Okay Isabelle, so if you're 25 now then you should turn 100 in the year 2093Okay Isabelle, so if you're 25 now then you should turn 100 in the year 2093Okay Isabelle, so if you're 25 now then you should turn 100 in the year 2093Okay Isabelle, so if you're 25 now then you should turn 100 in the year 2093Okay Isabelle, so if you're 25 now then you should turn 100 in the year 2093Okay Isabelle, so if you're 25 now then you should turn 100 in the year 2093Okay Isabelle, so if you're 25 now then you should turn 100 in the year 2093Okay Isabelle, so if you're 25 now then you should turn 100 in the year 2093Okay Isabelle, so if you're 25 now then you should turn 100 in the year 2093Okay Isabelle, so if you're 25 now then you should turn 100 in the year 2093Okay Isabelle, so if you're 25 now then you should turn 100 in the year 2093Okay Isabelle, so if you're 25 now then you should turn 100 in the year 2093Okay Isabelle, so if you're 25 now then you should turn 100 in the year 2093Okay Isabelle, so if you're 25 now then you should turn 100 in the year 2093Okay Isabelle, so if you're 25 now then you should turn 100 in the year 2093Okay Isabelle, so if you're 25 now then you should turn 100 in the year 2093Okay Isabelle, so if you're 25 now then you should turn 100 in the year 2093Okay Isabelle, so if you're 25 now then you should turn 100 in the year 2093Okay Isabelle, so if you're 25 now then you should turn 100 in the year 2093Okay Isabelle, so if you're 25 now then you should turn 100 in the year 2093Okay Isabelle, so if you're 25 now then you should turn 100 in the year 2093Okay Isabelle, so if you're 25 now then you should turn 100 in the year 2093Okay Isabelle, so if you're 25 now then you should turn 100 in the year 2093Okay Isabelle, so if you're 25 now then you should turn 100 in the year 2093Okay Isabelle, so if you're 25 now then you should turn 100 in the year 2093Okay Isabelle, so if you're 25 now then you should turn 100 in the year 2093Okay Isabelle, so if you're 25 now then you should turn 100 in the year 2093Okay Isabelle, so if you're 25 now then you should turn 100 in the year 2093Okay Isabelle, so if you're 25 now then you should turn 100 in the year 2093Okay Isabelle, so if you're 25 now then you should turn 100 in the year 2093\n",
      "Or does this look nicer?\n",
      "Okay Isabelle, so if you're 25 now then you should turn 100 in the year 2093\n",
      "Okay Isabelle, so if you're 25 now then you should turn 100 in the year 2093\n",
      "Okay Isabelle, so if you're 25 now then you should turn 100 in the year 2093\n",
      "Okay Isabelle, so if you're 25 now then you should turn 100 in the year 2093\n",
      "Okay Isabelle, so if you're 25 now then you should turn 100 in the year 2093\n",
      "Okay Isabelle, so if you're 25 now then you should turn 100 in the year 2093\n",
      "Okay Isabelle, so if you're 25 now then you should turn 100 in the year 2093\n",
      "Okay Isabelle, so if you're 25 now then you should turn 100 in the year 2093\n",
      "Okay Isabelle, so if you're 25 now then you should turn 100 in the year 2093\n",
      "Okay Isabelle, so if you're 25 now then you should turn 100 in the year 2093\n",
      "Okay Isabelle, so if you're 25 now then you should turn 100 in the year 2093\n",
      "Okay Isabelle, so if you're 25 now then you should turn 100 in the year 2093\n",
      "Okay Isabelle, so if you're 25 now then you should turn 100 in the year 2093\n",
      "Okay Isabelle, so if you're 25 now then you should turn 100 in the year 2093\n",
      "Okay Isabelle, so if you're 25 now then you should turn 100 in the year 2093\n",
      "Okay Isabelle, so if you're 25 now then you should turn 100 in the year 2093\n",
      "Okay Isabelle, so if you're 25 now then you should turn 100 in the year 2093\n",
      "Okay Isabelle, so if you're 25 now then you should turn 100 in the year 2093\n",
      "Okay Isabelle, so if you're 25 now then you should turn 100 in the year 2093\n",
      "Okay Isabelle, so if you're 25 now then you should turn 100 in the year 2093\n",
      "Okay Isabelle, so if you're 25 now then you should turn 100 in the year 2093\n",
      "Okay Isabelle, so if you're 25 now then you should turn 100 in the year 2093\n",
      "Okay Isabelle, so if you're 25 now then you should turn 100 in the year 2093\n",
      "Okay Isabelle, so if you're 25 now then you should turn 100 in the year 2093\n",
      "Okay Isabelle, so if you're 25 now then you should turn 100 in the year 2093\n",
      "Okay Isabelle, so if you're 25 now then you should turn 100 in the year 2093\n",
      "Okay Isabelle, so if you're 25 now then you should turn 100 in the year 2093\n",
      "Okay Isabelle, so if you're 25 now then you should turn 100 in the year 2093\n",
      "Okay Isabelle, so if you're 25 now then you should turn 100 in the year 2093\n",
      "Okay Isabelle, so if you're 25 now then you should turn 100 in the year 2093\n",
      "Okay Isabelle, so if you're 25 now then you should turn 100 in the year 2093\n",
      "Okay Isabelle, so if you're 25 now then you should turn 100 in the year 2093\n",
      "Okay Isabelle, so if you're 25 now then you should turn 100 in the year 2093\n",
      "Okay Isabelle, so if you're 25 now then you should turn 100 in the year 2093\n",
      "Okay Isabelle, so if you're 25 now then you should turn 100 in the year 2093\n",
      "Okay Isabelle, so if you're 25 now then you should turn 100 in the year 2093\n",
      "Okay Isabelle, so if you're 25 now then you should turn 100 in the year 2093\n",
      "Okay Isabelle, so if you're 25 now then you should turn 100 in the year 2093\n",
      "Okay Isabelle, so if you're 25 now then you should turn 100 in the year 2093\n",
      "Okay Isabelle, so if you're 25 now then you should turn 100 in the year 2093\n",
      "Okay Isabelle, so if you're 25 now then you should turn 100 in the year 2093\n",
      "Okay Isabelle, so if you're 25 now then you should turn 100 in the year 2093\n",
      "Okay Isabelle, so if you're 25 now then you should turn 100 in the year 2093\n",
      "Okay Isabelle, so if you're 25 now then you should turn 100 in the year 2093\n",
      "Okay Isabelle, so if you're 25 now then you should turn 100 in the year 2093\n",
      "\n",
      "Okay Isabelle, so if you're 25 now then you should turn 100 in the year 2093Okay Isabelle, so if you're 25 now then you should turn 100 in the year 2093Okay Isabelle, so if you're 25 now then you should turn 100 in the year 2093Okay Isabelle, so if you're 25 now then you should turn 100 in the year 2093Okay Isabelle, so if you're 25 now then you should turn 100 in the year 2093Okay Isabelle, so if you're 25 now then you should turn 100 in the year 2093Okay Isabelle, so if you're 25 now then you should turn 100 in the year 2093Okay Isabelle, so if you're 25 now then you should turn 100 in the year 2093Okay Isabelle, so if you're 25 now then you should turn 100 in the year 2093Okay Isabelle, so if you're 25 now then you should turn 100 in the year 2093Okay Isabelle, so if you're 25 now then you should turn 100 in the year 2093Okay Isabelle, so if you're 25 now then you should turn 100 in the year 2093Okay Isabelle, so if you're 25 now then you should turn 100 in the year 2093Okay Isabelle, so if you're 25 now then you should turn 100 in the year 2093Okay Isabelle, so if you're 25 now then you should turn 100 in the year 2093Okay Isabelle, so if you're 25 now then you should turn 100 in the year 2093Okay Isabelle, so if you're 25 now then you should turn 100 in the year 2093Okay Isabelle, so if you're 25 now then you should turn 100 in the year 2093Okay Isabelle, so if you're 25 now then you should turn 100 in the year 2093Okay Isabelle, so if you're 25 now then you should turn 100 in the year 2093Okay Isabelle, so if you're 25 now then you should turn 100 in the year 2093Okay Isabelle, so if you're 25 now then you should turn 100 in the year 2093Okay Isabelle, so if you're 25 now then you should turn 100 in the year 2093Okay Isabelle, so if you're 25 now then you should turn 100 in the year 2093Okay Isabelle, so if you're 25 now then you should turn 100 in the year 2093Okay Isabelle, so if you're 25 now then you should turn 100 in the year 2093Okay Isabelle, so if you're 25 now then you should turn 100 in the year 2093Okay Isabelle, so if you're 25 now then you should turn 100 in the year 2093Okay Isabelle, so if you're 25 now then you should turn 100 in the year 2093Okay Isabelle, so if you're 25 now then you should turn 100 in the year 2093Okay Isabelle, so if you're 25 now then you should turn 100 in the year 2093Okay Isabelle, so if you're 25 now then you should turn 100 in the year 2093Okay Isabelle, so if you're 25 now then you should turn 100 in the year 2093Okay Isabelle, so if you're 25 now then you should turn 100 in the year 2093Okay Isabelle, so if you're 25 now then you should turn 100 in the year 2093Okay Isabelle, so if you're 25 now then you should turn 100 in the year 2093Okay Isabelle, so if you're 25 now then you should turn 100 in the year 2093Okay Isabelle, so if you're 25 now then you should turn 100 in the year 2093Okay Isabelle, so if you're 25 now then you should turn 100 in the year 2093Okay Isabelle, so if you're 25 now then you should turn 100 in the year 2093Okay Isabelle, so if you're 25 now then you should turn 100 in the year 2093Okay Isabelle, so if you're 25 now then you should turn 100 in the year 2093Okay Isabelle, so if you're 25 now then you should turn 100 in the year 2093Okay Isabelle, so if you're 25 now then you should turn 100 in the year 2093Okay Isabelle, so if you're 25 now then you should turn 100 in the year 2093\n",
      "Or does this look nicer?\n",
      "Okay Isabelle, so if you're 25 now then you should turn 100 in the year 2093\n",
      "Okay Isabelle, so if you're 25 now then you should turn 100 in the year 2093\n",
      "Okay Isabelle, so if you're 25 now then you should turn 100 in the year 2093\n",
      "Okay Isabelle, so if you're 25 now then you should turn 100 in the year 2093\n",
      "Okay Isabelle, so if you're 25 now then you should turn 100 in the year 2093\n",
      "Okay Isabelle, so if you're 25 now then you should turn 100 in the year 2093\n",
      "Okay Isabelle, so if you're 25 now then you should turn 100 in the year 2093\n",
      "Okay Isabelle, so if you're 25 now then you should turn 100 in the year 2093\n",
      "Okay Isabelle, so if you're 25 now then you should turn 100 in the year 2093\n",
      "Okay Isabelle, so if you're 25 now then you should turn 100 in the year 2093\n",
      "Okay Isabelle, so if you're 25 now then you should turn 100 in the year 2093\n",
      "Okay Isabelle, so if you're 25 now then you should turn 100 in the year 2093\n",
      "Okay Isabelle, so if you're 25 now then you should turn 100 in the year 2093\n",
      "Okay Isabelle, so if you're 25 now then you should turn 100 in the year 2093\n",
      "Okay Isabelle, so if you're 25 now then you should turn 100 in the year 2093\n",
      "Okay Isabelle, so if you're 25 now then you should turn 100 in the year 2093\n",
      "Okay Isabelle, so if you're 25 now then you should turn 100 in the year 2093\n",
      "Okay Isabelle, so if you're 25 now then you should turn 100 in the year 2093\n",
      "Okay Isabelle, so if you're 25 now then you should turn 100 in the year 2093\n",
      "Okay Isabelle, so if you're 25 now then you should turn 100 in the year 2093\n",
      "Okay Isabelle, so if you're 25 now then you should turn 100 in the year 2093\n",
      "Okay Isabelle, so if you're 25 now then you should turn 100 in the year 2093\n",
      "Okay Isabelle, so if you're 25 now then you should turn 100 in the year 2093\n",
      "Okay Isabelle, so if you're 25 now then you should turn 100 in the year 2093\n",
      "Okay Isabelle, so if you're 25 now then you should turn 100 in the year 2093\n",
      "Okay Isabelle, so if you're 25 now then you should turn 100 in the year 2093\n",
      "Okay Isabelle, so if you're 25 now then you should turn 100 in the year 2093\n",
      "Okay Isabelle, so if you're 25 now then you should turn 100 in the year 2093\n",
      "Okay Isabelle, so if you're 25 now then you should turn 100 in the year 2093\n",
      "Okay Isabelle, so if you're 25 now then you should turn 100 in the year 2093\n",
      "Okay Isabelle, so if you're 25 now then you should turn 100 in the year 2093\n",
      "Okay Isabelle, so if you're 25 now then you should turn 100 in the year 2093\n",
      "Okay Isabelle, so if you're 25 now then you should turn 100 in the year 2093\n",
      "Okay Isabelle, so if you're 25 now then you should turn 100 in the year 2093\n",
      "Okay Isabelle, so if you're 25 now then you should turn 100 in the year 2093\n",
      "Okay Isabelle, so if you're 25 now then you should turn 100 in the year 2093\n",
      "Okay Isabelle, so if you're 25 now then you should turn 100 in the year 2093\n",
      "Okay Isabelle, so if you're 25 now then you should turn 100 in the year 2093\n",
      "Okay Isabelle, so if you're 25 now then you should turn 100 in the year 2093\n",
      "Okay Isabelle, so if you're 25 now then you should turn 100 in the year 2093\n",
      "Okay Isabelle, so if you're 25 now then you should turn 100 in the year 2093\n",
      "Okay Isabelle, so if you're 25 now then you should turn 100 in the year 2093\n",
      "Okay Isabelle, so if you're 25 now then you should turn 100 in the year 2093\n",
      "Okay Isabelle, so if you're 25 now then you should turn 100 in the year 2093\n",
      "Okay Isabelle, so if you're 25 now then you should turn 100 in the year 2093\n",
      "\n"
     ]
    }
   ],
   "source": [
    "import datetime\n",
    "\n",
    "now = datetime.datetime.now()\n",
    "\n",
    "name = input(\"Hey, what's your name?\\n\")\n",
    "age = int(input(\"Okay {}, how old are you?\\n\".format(name.title())))\n",
    "\n",
    "yrs = (now.year +100) - age\n",
    "\n",
    "msg = \"Okay {}, so if you're {} now then you should turn 100 in the year {}\".format(name.title(),age,yrs)\n",
    "\n",
    "print(msg)\n",
    "\n",
    "n = int(input(\"Okay {}, give me a number\\n\".format(name)))\n",
    "\n",
    "print(msg * n)\n",
    "print(\"Or does this look nicer?\")\n",
    "msg += \"\\n\"\n",
    "print(msg * n)"
   ]
  },
  {
   "cell_type": "code",
   "execution_count": null,
   "metadata": {},
   "outputs": [],
   "source": []
  },
  {
   "cell_type": "code",
   "execution_count": null,
   "metadata": {},
   "outputs": [],
   "source": []
  }
 ],
 "metadata": {
  "kernelspec": {
   "display_name": "Python 3",
   "language": "python",
   "name": "python3"
  },
  "language_info": {
   "codemirror_mode": {
    "name": "ipython",
    "version": 3
   },
   "file_extension": ".py",
   "mimetype": "text/x-python",
   "name": "python",
   "nbconvert_exporter": "python",
   "pygments_lexer": "ipython3",
   "version": "3.6.5"
  }
 },
 "nbformat": 4,
 "nbformat_minor": 2
}

