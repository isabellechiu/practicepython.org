{
 "cells": [
  {
   "cell_type": "markdown",
   "metadata": {},
   "source": [
    "Exercise 2 \n",
    "\n",
    "Ask the user for a number. Depending on whether the number is even or odd, print out an appropriate message to the user. Hint: how does an even / odd number react differently when divided by 2?\n",
    "\n",
    "Extras:\n",
    "\n",
    "1.If the number is a multiple of 4, print out a different message.\n",
    "\n",
    "2.Ask the user for two numbers: one number to check (call it num) and one number to divide by (check). If check divides evenly into num, tell that to the user. If not, print a different appropriate message."
   ]
  },
  {
   "cell_type": "markdown",
   "metadata": {},
   "source": [
    "-------------------------------------------------------------------\n",
    "This is my first answer that not sure the even and odd mean."
   ]
  },
  {
   "cell_type": "code",
   "execution_count": 2,
   "metadata": {
    "scrolled": true
   },
   "outputs": [
    {
     "name": "stdout",
     "output_type": "stream",
     "text": [
      "What's your name?isabelle\n",
      "isabelle\n",
      "Please give me a number.25\n",
      "odd\n"
     ]
    }
   ],
   "source": [
    "\n",
    "name = input(\"What's your name?\")\n",
    "number = int(input(name + \"\\nPlease give me a number.\"))\n",
    "def even_odd(number):\n",
    "    if number / 2 == 0:\n",
    "        return print(\"even\")\n",
    "    else:\n",
    "        return print(\"odd\")\n",
    "\n",
    "    even_odd(number)"
   ]
  },
  {
   "cell_type": "markdown",
   "metadata": {},
   "source": [
    "--------------------------------------------------------------------\n",
    "Modular arithmetic (the modulus operator)\n",
    "We have been doing arithmetic (addition, subtraction, multiplication, division) since elementary school, and often it is useful for us to find not the answer to a division problem but the remainder when we do a division operation. This operation is called the “modulus operation.” For example, when I divide 5 by 3, the remainder is 2, and the sentence reads like this: “5 modulo 3 is 2.”\n",
    "\n",
    "In the Python shell:\n",
    "\n",
    ":5 % 3\n",
    "=2\n",
    "\n",
    ":6 % 3\n",
    "=0\n",
    "\n",
    ":7 % 3\n",
    "=1\n",
    "\n",
    "The % sign is exactly the modulus operator."
   ]
  },
  {
   "cell_type": "markdown",
   "metadata": {},
   "source": [
    "---------------------------------------------\n",
    "This is my second answer after knowing the %"
   ]
  },
  {
   "cell_type": "code",
   "execution_count": 16,
   "metadata": {},
   "outputs": [
    {
     "name": "stdout",
     "output_type": "stream",
     "text": [
      "What's your name?\n",
      "\n",
      "Please give me a number.25\n",
      "even\n"
     ]
    }
   ],
   "source": [
    "name = input(\"What's your name?\")\n",
    "number = int(input(name + \"\\nPlease give me a number.\"))\n",
    "def even_odd(number):\n",
    "    if number % 2 > 0:\n",
    "        return print(\"even\")\n",
    "    else:\n",
    "        return print(\"odd\")\n",
    "even_odd(number)"
   ]
  },
  {
   "cell_type": "markdown",
   "metadata": {},
   "source": [
    "-------------------------\n",
    "The answer"
   ]
  },
  {
   "cell_type": "code",
   "execution_count": 17,
   "metadata": {},
   "outputs": [
    {
     "name": "stdout",
     "output_type": "stream",
     "text": [
      "Enter a number: 25\n",
      "You picked an odd number.\n"
     ]
    }
   ],
   "source": [
    "num = int(input(\"Enter a number: \"))\n",
    "mod = num % 2\n",
    "if mod > 0:\n",
    "    print(\"You picked an odd number.\")\n",
    "else:\n",
    "    print(\"You picked an even number.\")"
   ]
  },
  {
   "cell_type": "markdown",
   "metadata": {},
   "source": [
    "--------------------------------------------------\n",
    "Other answer"
   ]
  },
  {
   "cell_type": "code",
   "execution_count": 18,
   "metadata": {},
   "outputs": [
    {
     "name": "stdout",
     "output_type": "stream",
     "text": [
      "Enter a number: 15\n",
      "this number is odd\n"
     ]
    }
   ],
   "source": [
    "num = int(input(\"Enter a number: \"))\n",
    "if num % 2 == 0:\n",
    "    print(\"this number is even\")\n",
    "else:\n",
    "    print(\"this number is odd\")"
   ]
  },
  {
   "cell_type": "markdown",
   "metadata": {},
   "source": [
    "Checking for equality (and comparators in general)\n",
    "A fundamental thing you want to do with your program is check whether some number is equal to another. Say the user tells you how many questions they answered incorrectly on a practice exam, and depending on the number of correctly-answered questions, you can suggest a specific course of action. For integers, strings, floats, and many other variable types, this is done with a simple syntax: ==. To explicitly check inequality, use !=.\n",
    "\n",
    "  \n",
    "if a == 3: \n",
    "  print(\"the variable has the value 3\")\n",
    "elif a != 3:\n",
    "  print(\"the variable does not have the value 3\")\n",
    "Notice how in this example, the condition is redundant. In the first condition we are checking whether the variable a has the value 3 and in the second, we are checking whether a does NOT have the value 3. However, if the first condition is not true (a is in fact not 3), then the second condition is by definition true. So a more efficient way to write the above conditional is like this:\n",
    "\n",
    "if a == 3: \n",
    "  print(\"the variable has the value 3\")\n",
    "else:\n",
    "  print(\"the variable does not have the value 3\")"
   ]
  },
  {
   "cell_type": "markdown",
   "metadata": {},
   "source": [
    "----------------------------------\n",
    "Extra Exercise\n",
    "1.If the number is a multiple of 4, print out a different message.\n",
    "\n",
    "2.Ask the user for two numbers: one number to check (call it num) and one number to divide by (check). If check divides evenly into num, tell that to the user. If not, print a different appropriate message."
   ]
  },
  {
   "cell_type": "code",
   "execution_count": 14,
   "metadata": {},
   "outputs": [
    {
     "name": "stdout",
     "output_type": "stream",
     "text": [
      "What's your name?isabelle\n",
      "isabelle\n",
      "Please give me a number.36\n",
      "even\n"
     ]
    }
   ],
   "source": [
    "name = input(\"What's your name?\")\n",
    "number = int(input(name + \"\\nPlease give me a number.\"))\n",
    "def even_odd(number):\n",
    "    if number % 2 == 0:\n",
    "        return print(\"even\")\n",
    "    if number % 4 == 0:\n",
    "        return print(\"the number is a multiple of 4.\")\n",
    "    else:\n",
    "        return print(\"odd\")\n",
    "even_odd(number)"
   ]
  },
  {
   "cell_type": "markdown",
   "metadata": {},
   "source": [
    "--------------------------------------------------------------\n",
    "My answer not quite right due to %4 wont be consider if %2 is the first line."
   ]
  },
  {
   "cell_type": "code",
   "execution_count": 15,
   "metadata": {},
   "outputs": [
    {
     "name": "stdout",
     "output_type": "stream",
     "text": [
      "Please type a number:\n",
      " 36\n",
      "36 is a even number and can be divided by 4.\n"
     ]
    }
   ],
   "source": [
    "number = int(input(\"Please type a number:\\n \"))\n",
    "if number % 4 == 0:\n",
    "    print(\"%i\" %number + \" is a even number and can be divided by 4.\")\n",
    "else:\n",
    "    if number % 2 == 0:\n",
    "        print(\"number\" + number + \"is even\")\n",
    "    else:\n",
    "        print(\"the number you chose, %i\" %number + \"is a odd number\" )"
   ]
  },
  {
   "cell_type": "code",
   "execution_count": 20,
   "metadata": {},
   "outputs": [
    {
     "name": "stdout",
     "output_type": "stream",
     "text": [
      "What's your name?isabelle\n",
      "isabelle\n",
      "Please give me a number.17\n",
      "odd\n"
     ]
    }
   ],
   "source": [
    "name = input(\"What's your name?\")\n",
    "number = int(input(name + \"\\nPlease give me a number.\"))\n",
    "def even_odd(number):\n",
    "    if number % 4 == 0:\n",
    "        return print(\"the number is a multiple of 4.\")\n",
    "    else:\n",
    "        if number % 2 == 0:\n",
    "            return print(\"even\")\n",
    "        else:\n",
    "            return print(\"odd\")\n",
    "even_odd(number)"
   ]
  },
  {
   "cell_type": "code",
   "execution_count": null,
   "metadata": {},
   "outputs": [],
   "source": []
  }
 ],
 "metadata": {
  "kernelspec": {
   "display_name": "Python 3",
   "language": "python",
   "name": "python3"
  },
  "language_info": {
   "codemirror_mode": {
    "name": "ipython",
    "version": 3
   },
   "file_extension": ".py",
   "mimetype": "text/x-python",
   "name": "python",
   "nbconvert_exporter": "python",
   "pygments_lexer": "ipython3",
   "version": "3.6.5"
  }
 },
 "nbformat": 4,
 "nbformat_minor": 2
}
