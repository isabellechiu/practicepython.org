{
 "cells": [
  {
   "cell_type": "markdown",
   "metadata": {},
   "source": [
    "Exercise 6 \n",
    "String Lists  \n",
    "(strings lists index)\n",
    "\n",
    "Ask the user for a string and print out whether this string is a palindrome or not. (A palindrome is a string that reads the same forwards and backwards.)"
   ]
  },
  {
   "cell_type": "code",
   "execution_count": 1,
   "metadata": {
    "scrolled": true
   },
   "outputs": [
    {
     "name": "stdout",
     "output_type": "stream",
     "text": [
      "Enter a string: \n",
      "happy\n",
      "Every letter:h\n",
      "Every letter:a\n",
      "Every letter:p\n",
      "Every letter:p\n",
      "Every letter:y\n"
     ]
    }
   ],
   "source": [
    "string = str(input(\"Enter a string: \\n\"))\n",
    "for i in string:\n",
    "    print(\"Every letter:\" + i)\n",
    "\n"
   ]
  },
  {
   "cell_type": "markdown",
   "metadata": {},
   "source": [
    "Sammy Shark!\n",
    "\n",
    "In this example the whitespace character is skipped as well.\n",
    "\n",
    "Since we are printing the whole string we can omit the two index numbers and keep the two colons within the syntax to achieve the same result:\n",
    "\n",
    "print(ss[::4])\n",
    "Output\n",
    "Sya\n",
    "Omitting the two index numbers and retaining colons will keep the whole string within range, while adding a final parameter for stride will specify the number of characters to skip.\n",
    "\n",
    "Additionally, you can indicate a negative numeric value for the stride, which we can use to print the original string in reverse order if we set the stride to -1:\n",
    "\n",
    "print(ss[::-1])\n",
    "Output\n",
    "!krahS ymmaS\n",
    "The two colons without specified parameter will include all the characters from the original string, a stride of 1 will include every character without skipping, and negating that stride will reverse the order of the characters.\n",
    "\n",
    "Let’s do this again but with a stride of -2:\n",
    "\n",
    "print(ss[::-2])\n",
    "Output\n",
    "!rh ma\n",
    "In this example, ss[::-2], we are dealing with the entirety of the original string as no index numbers are included in the parameters, and reversing the string through the negative stride. Additionally, by having a stride of -2 we are skipping every other letter of the reversed string:\n",
    "\n",
    "!krahS[whitespace]ymmaS\n",
    "\n",
    "The whitespace character is printed in this example."
   ]
  },
  {
   "cell_type": "code",
   "execution_count": 2,
   "metadata": {},
   "outputs": [
    {
     "name": "stdout",
     "output_type": "stream",
     "text": [
      "Please enter a wordhappy\n",
      "yppah\n",
      "This word is not a palindrome\n"
     ]
    }
   ],
   "source": [
    "wrd=input(\"Please enter a word\")\n",
    "wrd=str(wrd)\n",
    "rvs=wrd[::-1]\n",
    "print(rvs)\n",
    "if wrd == rvs:\n",
    "    print(\"This word is a palindrome\")\n",
    "else:\n",
    "    print(\"This word is not a palindrome\")"
   ]
  },
  {
   "cell_type": "code",
   "execution_count": 5,
   "metadata": {},
   "outputs": [
    {
     "name": "stdout",
     "output_type": "stream",
     "text": [
      "give me a word:\n",
      "nnnnn\n",
      "This is a Palindrome\n"
     ]
    }
   ],
   "source": [
    "def reverse(word):\n",
    "    x = ''\n",
    "    for i in range(len(word)):\n",
    "        x += word[len(word)-1-i]\n",
    "    return x\n",
    "\n",
    "word = input('give me a word:\\n')\n",
    "x = reverse(word)\n",
    "if x == word:\n",
    "    print('This is a Palindrome')\n",
    "else:\n",
    "    print('This is NOT a Palindrome')"
   ]
  },
  {
   "cell_type": "code",
   "execution_count": null,
   "metadata": {},
   "outputs": [],
   "source": []
  }
 ],
 "metadata": {
  "kernelspec": {
   "display_name": "Python 3",
   "language": "python",
   "name": "python3"
  },
  "language_info": {
   "codemirror_mode": {
    "name": "ipython",
    "version": 3
   },
   "file_extension": ".py",
   "mimetype": "text/x-python",
   "name": "python",
   "nbconvert_exporter": "python",
   "pygments_lexer": "ipython3",
   "version": "3.6.5"
  }
 },
 "nbformat": 4,
 "nbformat_minor": 2
}
